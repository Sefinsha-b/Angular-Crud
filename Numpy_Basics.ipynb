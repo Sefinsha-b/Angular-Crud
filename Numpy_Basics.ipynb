{
  "nbformat": 4,
  "nbformat_minor": 0,
  "metadata": {
    "colab": {
      "provenance": [],
      "authorship_tag": "ABX9TyMfS0aWhTGAmXyXSj+h1DhY",
      "include_colab_link": true
    },
    "kernelspec": {
      "name": "python3",
      "display_name": "Python 3"
    },
    "language_info": {
      "name": "python"
    }
  },
  "cells": [
    {
      "cell_type": "markdown",
      "metadata": {
        "id": "view-in-github",
        "colab_type": "text"
      },
      "source": [
        "<a href=\"https://colab.research.google.com/github/Sefinsha-b/Angular-Crud/blob/main/Numpy_Basics.ipynb\" target=\"_parent\"><img src=\"https://colab.research.google.com/assets/colab-badge.svg\" alt=\"Open In Colab\"/></a>"
      ]
    },
    {
      "cell_type": "markdown",
      "source": [
        "System Specification"
      ],
      "metadata": {
        "id": "c0t1oqZK3Isb"
      }
    },
    {
      "cell_type": "code",
      "source": [
        "! cat /proc/cpuinfo"
      ],
      "metadata": {
        "colab": {
          "base_uri": "https://localhost:8080/"
        },
        "id": "yRiUbzw23A2x",
        "outputId": "213403d8-2f67-4709-a20d-18c00b652418"
      },
      "execution_count": null,
      "outputs": [
        {
          "output_type": "stream",
          "name": "stdout",
          "text": [
            "processor\t: 0\n",
            "vendor_id\t: AuthenticAMD\n",
            "cpu family\t: 23\n",
            "model\t\t: 49\n",
            "model name\t: AMD EPYC 7B12\n",
            "stepping\t: 0\n",
            "microcode\t: 0xffffffff\n",
            "cpu MHz\t\t: 2250.000\n",
            "cache size\t: 512 KB\n",
            "physical id\t: 0\n",
            "siblings\t: 2\n",
            "core id\t\t: 0\n",
            "cpu cores\t: 1\n",
            "apicid\t\t: 0\n",
            "initial apicid\t: 0\n",
            "fpu\t\t: yes\n",
            "fpu_exception\t: yes\n",
            "cpuid level\t: 13\n",
            "wp\t\t: yes\n",
            "flags\t\t: fpu vme de pse tsc msr pae mce cx8 apic sep mtrr pge mca cmov pat pse36 clflush mmx fxsr sse sse2 ht syscall nx mmxext fxsr_opt pdpe1gb rdtscp lm constant_tsc rep_good nopl nonstop_tsc cpuid extd_apicid tsc_known_freq pni pclmulqdq ssse3 fma cx16 sse4_1 sse4_2 movbe popcnt aes xsave avx f16c rdrand hypervisor lahf_lm cmp_legacy cr8_legacy abm sse4a misalignsse 3dnowprefetch osvw topoext ssbd ibrs ibpb stibp vmmcall fsgsbase tsc_adjust bmi1 avx2 smep bmi2 rdseed adx smap clflushopt clwb sha_ni xsaveopt xsavec xgetbv1 clzero xsaveerptr arat npt nrip_save umip rdpid\n",
            "bugs\t\t: sysret_ss_attrs null_seg spectre_v1 spectre_v2 spec_store_bypass retbleed\n",
            "bogomips\t: 4500.00\n",
            "TLB size\t: 3072 4K pages\n",
            "clflush size\t: 64\n",
            "cache_alignment\t: 64\n",
            "address sizes\t: 48 bits physical, 48 bits virtual\n",
            "power management:\n",
            "\n",
            "processor\t: 1\n",
            "vendor_id\t: AuthenticAMD\n",
            "cpu family\t: 23\n",
            "model\t\t: 49\n",
            "model name\t: AMD EPYC 7B12\n",
            "stepping\t: 0\n",
            "microcode\t: 0xffffffff\n",
            "cpu MHz\t\t: 2250.000\n",
            "cache size\t: 512 KB\n",
            "physical id\t: 0\n",
            "siblings\t: 2\n",
            "core id\t\t: 0\n",
            "cpu cores\t: 1\n",
            "apicid\t\t: 1\n",
            "initial apicid\t: 1\n",
            "fpu\t\t: yes\n",
            "fpu_exception\t: yes\n",
            "cpuid level\t: 13\n",
            "wp\t\t: yes\n",
            "flags\t\t: fpu vme de pse tsc msr pae mce cx8 apic sep mtrr pge mca cmov pat pse36 clflush mmx fxsr sse sse2 ht syscall nx mmxext fxsr_opt pdpe1gb rdtscp lm constant_tsc rep_good nopl nonstop_tsc cpuid extd_apicid tsc_known_freq pni pclmulqdq ssse3 fma cx16 sse4_1 sse4_2 movbe popcnt aes xsave avx f16c rdrand hypervisor lahf_lm cmp_legacy cr8_legacy abm sse4a misalignsse 3dnowprefetch osvw topoext ssbd ibrs ibpb stibp vmmcall fsgsbase tsc_adjust bmi1 avx2 smep bmi2 rdseed adx smap clflushopt clwb sha_ni xsaveopt xsavec xgetbv1 clzero xsaveerptr arat npt nrip_save umip rdpid\n",
            "bugs\t\t: sysret_ss_attrs null_seg spectre_v1 spectre_v2 spec_store_bypass retbleed\n",
            "bogomips\t: 4500.00\n",
            "TLB size\t: 3072 4K pages\n",
            "clflush size\t: 64\n",
            "cache_alignment\t: 64\n",
            "address sizes\t: 48 bits physical, 48 bits virtual\n",
            "power management:\n",
            "\n"
          ]
        }
      ]
    },
    {
      "cell_type": "code",
      "source": [
        "! cat /proc/meminfo"
      ],
      "metadata": {
        "colab": {
          "base_uri": "https://localhost:8080/"
        },
        "id": "XnA1EgHS3iTG",
        "outputId": "42ace43b-2fcd-4b3c-e45b-aa1ce7106dbe"
      },
      "execution_count": null,
      "outputs": [
        {
          "output_type": "stream",
          "name": "stdout",
          "text": [
            "MemTotal:       13297228 kB\n",
            "MemFree:         9905124 kB\n",
            "MemAvailable:   12499024 kB\n",
            "Buffers:           62468 kB\n",
            "Cached:          2675540 kB\n",
            "SwapCached:            0 kB\n",
            "Active:           692788 kB\n",
            "Inactive:        2518116 kB\n",
            "Active(anon):        884 kB\n",
            "Inactive(anon):   421084 kB\n",
            "Active(file):     691904 kB\n",
            "Inactive(file):  2097032 kB\n",
            "Unevictable:           0 kB\n",
            "Mlocked:               0 kB\n",
            "SwapTotal:             0 kB\n",
            "SwapFree:              0 kB\n",
            "Dirty:               336 kB\n",
            "Writeback:             0 kB\n",
            "AnonPages:        472932 kB\n",
            "Mapped:           228244 kB\n",
            "Shmem:              1156 kB\n",
            "KReclaimable:      92832 kB\n",
            "Slab:             119988 kB\n",
            "SReclaimable:      92832 kB\n",
            "SUnreclaim:        27156 kB\n",
            "KernelStack:        3968 kB\n",
            "PageTables:         9828 kB\n",
            "NFS_Unstable:          0 kB\n",
            "Bounce:                0 kB\n",
            "WritebackTmp:          0 kB\n",
            "CommitLimit:     6648612 kB\n",
            "Committed_AS:    2522736 kB\n",
            "VmallocTotal:   34359738367 kB\n",
            "VmallocUsed:        8728 kB\n",
            "VmallocChunk:          0 kB\n",
            "Percpu:             1328 kB\n",
            "HardwareCorrupted:     0 kB\n",
            "AnonHugePages:         0 kB\n",
            "ShmemHugePages:        0 kB\n",
            "ShmemPmdMapped:        0 kB\n",
            "FileHugePages:         0 kB\n",
            "FilePmdMapped:         0 kB\n",
            "CmaTotal:              0 kB\n",
            "CmaFree:               0 kB\n",
            "HugePages_Total:       0\n",
            "HugePages_Free:        0\n",
            "HugePages_Rsvd:        0\n",
            "HugePages_Surp:        0\n",
            "Hugepagesize:       2048 kB\n",
            "Hugetlb:               0 kB\n",
            "DirectMap4k:       78656 kB\n",
            "DirectMap2M:     5160960 kB\n",
            "DirectMap1G:    10485760 kB\n"
          ]
        }
      ]
    },
    {
      "cell_type": "code",
      "source": [
        "! pip install pandas"
      ],
      "metadata": {
        "colab": {
          "base_uri": "https://localhost:8080/"
        },
        "id": "ku6no_Nl4MED",
        "outputId": "42d374ae-3f05-4126-ce48-ec01f25d8f25"
      },
      "execution_count": null,
      "outputs": [
        {
          "output_type": "stream",
          "name": "stdout",
          "text": [
            "Looking in indexes: https://pypi.org/simple, https://us-python.pkg.dev/colab-wheels/public/simple/\n",
            "Requirement already satisfied: pandas in /usr/local/lib/python3.8/dist-packages (1.3.5)\n",
            "Requirement already satisfied: python-dateutil>=2.7.3 in /usr/local/lib/python3.8/dist-packages (from pandas) (2.8.2)\n",
            "Requirement already satisfied: numpy>=1.17.3 in /usr/local/lib/python3.8/dist-packages (from pandas) (1.21.6)\n",
            "Requirement already satisfied: pytz>=2017.3 in /usr/local/lib/python3.8/dist-packages (from pandas) (2022.6)\n",
            "Requirement already satisfied: six>=1.5 in /usr/local/lib/python3.8/dist-packages (from python-dateutil>=2.7.3->pandas) (1.15.0)\n"
          ]
        }
      ]
    },
    {
      "cell_type": "code",
      "source": [
        "import pandas as pd\n"
      ],
      "metadata": {
        "id": "U8EcnrPE5ZqH"
      },
      "execution_count": null,
      "outputs": []
    },
    {
      "cell_type": "markdown",
      "source": [
        "#print function\n"
      ],
      "metadata": {
        "id": "F3UkDBD55vYa"
      }
    },
    {
      "cell_type": "code",
      "source": [
        "print(\"Machine LEARNING\")"
      ],
      "metadata": {
        "colab": {
          "base_uri": "https://localhost:8080/"
        },
        "id": "qFNBhkmW6J9z",
        "outputId": "2d3ee723-8582-4b96-e920-9eb006997a5a"
      },
      "execution_count": null,
      "outputs": [
        {
          "output_type": "stream",
          "name": "stdout",
          "text": [
            "Machine LEARNING\n"
          ]
        }
      ]
    },
    {
      "cell_type": "code",
      "source": [
        "print(\"machine learning\"+ \"project\")"
      ],
      "metadata": {
        "colab": {
          "base_uri": "https://localhost:8080/"
        },
        "id": "5OTOf0mn6U9Y",
        "outputId": "d902d001-a519-4255-87ff-3e23bb85fdda"
      },
      "execution_count": null,
      "outputs": [
        {
          "output_type": "stream",
          "name": "stdout",
          "text": [
            "machine learningproject\n"
          ]
        }
      ]
    },
    {
      "cell_type": "code",
      "source": [
        "print(8+3)\n"
      ],
      "metadata": {
        "colab": {
          "base_uri": "https://localhost:8080/"
        },
        "id": "kMZalBMZ5aa1",
        "outputId": "9d886adf-25e5-4bf1-d0f5-9a475e056edc"
      },
      "execution_count": null,
      "outputs": [
        {
          "output_type": "stream",
          "name": "stdout",
          "text": [
            "11\n"
          ]
        }
      ]
    },
    {
      "cell_type": "code",
      "source": [],
      "metadata": {
        "id": "X3NJytpi5e2l"
      },
      "execution_count": null,
      "outputs": []
    },
    {
      "cell_type": "markdown",
      "source": [
        "# Data types"
      ],
      "metadata": {
        "id": "zRgbilOO6L0i"
      }
    },
    {
      "cell_type": "markdown",
      "source": [
        " Immutable objects:\n",
        "\n",
        " 1.init\n",
        " 2.float\n",
        " 3.string\n",
        " 4.bool\n",
        " 5.tuple\n",
        "\n",
        "\n",
        " Mutable objects:\n",
        "\n",
        " 1.List\n",
        " 2.Set\n",
        " 3.Dictionary"
      ],
      "metadata": {
        "id": "AZRFPyRs6UGx"
      }
    },
    {
      "cell_type": "markdown",
      "source": [
        "#List"
      ],
      "metadata": {
        "id": "eyAWl6yOBCWM"
      }
    },
    {
      "cell_type": "code",
      "source": [
        "my_list=[1,2,3,4]\n",
        "print(my_list)\n",
        "type(my_list)"
      ],
      "metadata": {
        "colab": {
          "base_uri": "https://localhost:8080/"
        },
        "id": "vzvXQ6j16oUA",
        "outputId": "9b666e58-fe1a-4b05-e5dd-adcf4f4bf958"
      },
      "execution_count": null,
      "outputs": [
        {
          "output_type": "stream",
          "name": "stdout",
          "text": [
            "[1, 2, 3, 4]\n"
          ]
        },
        {
          "output_type": "execute_result",
          "data": {
            "text/plain": [
              "list"
            ]
          },
          "metadata": {},
          "execution_count": 14
        }
      ]
    },
    {
      "cell_type": "code",
      "source": [
        "#list can have multiple datatypes\n",
        "my_list=[1,1,2,3,\"english\",\"true\"]\n",
        "print(my_list)"
      ],
      "metadata": {
        "colab": {
          "base_uri": "https://localhost:8080/"
        },
        "id": "p0CYEY-a7PJq",
        "outputId": "9756801a-6c22-47d0-8039-4854234a1aa7"
      },
      "execution_count": null,
      "outputs": [
        {
          "output_type": "stream",
          "name": "stdout",
          "text": [
            "[1, 1, 2, 3, 'english', 'true']\n"
          ]
        }
      ]
    },
    {
      "cell_type": "code",
      "source": [
        "#addd elements in a list\n",
        "my_list=[1,1,2.8,3,\"english\",\"true\"]\n",
        "my_list.append(8)\n",
        "print(my_list)"
      ],
      "metadata": {
        "colab": {
          "base_uri": "https://localhost:8080/"
        },
        "id": "vvL_8g4b7oY5",
        "outputId": "50b9597e-7ef1-4def-f35e-635bab36b07b"
      },
      "execution_count": null,
      "outputs": [
        {
          "output_type": "stream",
          "name": "stdout",
          "text": [
            "[1, 1, 2.8, 3, 'english', 'true', 8]\n"
          ]
        }
      ]
    },
    {
      "cell_type": "code",
      "source": [
        "\n",
        "#print elements by using index\n",
        "my_list=[1,1,2.8,3,\"english\",\"true\"]\n",
        "print(my_list[4])"
      ],
      "metadata": {
        "colab": {
          "base_uri": "https://localhost:8080/"
        },
        "id": "HarZRZmu8iJ8",
        "outputId": "fe0e8025-6eb3-46a7-e34d-2a9636d4ef19"
      },
      "execution_count": null,
      "outputs": [
        {
          "output_type": "stream",
          "name": "stdout",
          "text": [
            "english\n"
          ]
        }
      ]
    },
    {
      "cell_type": "code",
      "source": [
        "#list allows duplicate values\n",
        "my_list =[1,1,2.8,3,\"english\",\"true\",1111,1]\n",
        "print(my_list)\n",
        "print(len(my_list))"
      ],
      "metadata": {
        "colab": {
          "base_uri": "https://localhost:8080/"
        },
        "id": "EtUAtF7B9Arp",
        "outputId": "bd49b6f1-d06f-4c33-e0cb-0f6a2632775d"
      },
      "execution_count": null,
      "outputs": [
        {
          "output_type": "stream",
          "name": "stdout",
          "text": [
            "[1, 1, 2.8, 3, 'english', 'true', 1111, 1]\n",
            "8\n"
          ]
        }
      ]
    },
    {
      "cell_type": "code",
      "source": [
        "#deleting elements in a list\n",
        "my_list =[1,1,2.8,3,\"english\",\"true\",1111,1]\n",
        "del my_list[4]\n",
        "print(my_list)"
      ],
      "metadata": {
        "colab": {
          "base_uri": "https://localhost:8080/"
        },
        "id": "xbOJ6yDiAA1x",
        "outputId": "a666e797-c446-44c2-f275-8fad174e1ea0"
      },
      "execution_count": null,
      "outputs": [
        {
          "output_type": "stream",
          "name": "stdout",
          "text": [
            "[1, 1, 2.8, 3, 'true', 1111, 1]\n"
          ]
        }
      ]
    },
    {
      "cell_type": "code",
      "source": [
        "#adding two list\n",
        "my_list  =[1,1,2.8,3,\"english\",\"true\",1111,1]\n",
        "my_list2 =[1,1,2.8,3,\"english\",\"true\",1111,1]\n",
        "my_list3=my_list+my_list2\n",
        "print(my_list3)\n"
      ],
      "metadata": {
        "colab": {
          "base_uri": "https://localhost:8080/"
        },
        "id": "b7-DIGulAj_K",
        "outputId": "4e96a6e7-8e19-4ffe-fb33-1a92f70ad54b"
      },
      "execution_count": null,
      "outputs": [
        {
          "output_type": "stream",
          "name": "stdout",
          "text": [
            "[1, 1, 2.8, 3, 'english', 'true', 1111, 1, 1, 1, 2.8, 3, 'english', 'true', 1111, 1]\n"
          ]
        }
      ]
    },
    {
      "cell_type": "markdown",
      "source": [
        "#Tuple\n"
      ],
      "metadata": {
        "id": "wrAauxiDHYdS"
      }
    },
    {
      "cell_type": "code",
      "source": [
        "#tuple also alows multiple datatypes\n",
        "tuple1=(1,2,\"machine\",5.9)\n",
        "print(tuple1)\n",
        "type(tuple1)"
      ],
      "metadata": {
        "colab": {
          "base_uri": "https://localhost:8080/"
        },
        "id": "1GWwZRThHccI",
        "outputId": "3f8aaee0-8531-44fb-9f97-3c1f6b5c0ea3"
      },
      "execution_count": null,
      "outputs": [
        {
          "output_type": "stream",
          "name": "stdout",
          "text": [
            "(1, 2, 'machine', 5.9)\n"
          ]
        },
        {
          "output_type": "execute_result",
          "data": {
            "text/plain": [
              "tuple"
            ]
          },
          "metadata": {},
          "execution_count": 16
        }
      ]
    },
    {
      "cell_type": "code",
      "source": [
        "#converting list in to tuple\n",
        "my_list=[1,2,3,4,5]\n",
        "print(my_list)\n",
        "mytuple=tuple(my_list)\n",
        "print(mytuple)"
      ],
      "metadata": {
        "colab": {
          "base_uri": "https://localhost:8080/"
        },
        "id": "YFOrMplfIJD_",
        "outputId": "af099eab-3145-4b01-832e-26c9fa72402a"
      },
      "execution_count": null,
      "outputs": [
        {
          "output_type": "stream",
          "name": "stdout",
          "text": [
            "[1, 2, 3, 4, 5]\n",
            "(1, 2, 3, 4, 5)\n"
          ]
        }
      ]
    },
    {
      "cell_type": "markdown",
      "source": [
        "#Set"
      ],
      "metadata": {
        "id": "dvayxLsgJD1a"
      }
    },
    {
      "cell_type": "code",
      "source": [
        "#set are curlybracket\n",
        "#set has not index value\n",
        "machine={1,2,3,4,5}\n",
        "type(machine)"
      ],
      "metadata": {
        "colab": {
          "base_uri": "https://localhost:8080/"
        },
        "id": "P6p9UowbJGIy",
        "outputId": "c4612a10-75d5-4132-868d-eb593990ed24"
      },
      "execution_count": null,
      "outputs": [
        {
          "output_type": "execute_result",
          "data": {
            "text/plain": [
              "set"
            ]
          },
          "metadata": {},
          "execution_count": 19
        }
      ]
    },
    {
      "cell_type": "code",
      "source": [
        "#convert list t0 set\n",
        "List_5=[1,2,3,4,5]\n",
        "x=set(List_5)\n",
        "print(x)"
      ],
      "metadata": {
        "colab": {
          "base_uri": "https://localhost:8080/"
        },
        "id": "eqjvrYaALUYM",
        "outputId": "630521ac-2ac2-4f14-dd45-1eb98efd2975"
      },
      "execution_count": null,
      "outputs": [
        {
          "output_type": "stream",
          "name": "stdout",
          "text": [
            "{1, 2, 3, 4, 5}\n"
          ]
        }
      ]
    },
    {
      "cell_type": "code",
      "source": [
        "#set doesn't allow duplicate values\n",
        "set_3={1,2,3,4,5,6,1,1,5}\n",
        "print(set_3)"
      ],
      "metadata": {
        "colab": {
          "base_uri": "https://localhost:8080/"
        },
        "id": "xeJENz8OM3dV",
        "outputId": "fc91af1d-8c13-49e6-ee89-82f7623f8b37"
      },
      "execution_count": null,
      "outputs": [
        {
          "output_type": "stream",
          "name": "stdout",
          "text": [
            "{1, 2, 3, 4, 5, 6}\n"
          ]
        }
      ]
    },
    {
      "cell_type": "markdown",
      "source": [
        "#Dictionary"
      ],
      "metadata": {
        "id": "D6hiHpNBNw-C"
      }
    },
    {
      "cell_type": "code",
      "source": [
        "my_dictionary={'name':'sefin','age':30,'country':'India'}\n",
        "print(my_dictionary)"
      ],
      "metadata": {
        "colab": {
          "base_uri": "https://localhost:8080/"
        },
        "id": "hNWl7p1CO890",
        "outputId": "9bb2688a-a1ff-4070-ef20-1136de1d6a34"
      },
      "execution_count": null,
      "outputs": [
        {
          "output_type": "stream",
          "name": "stdout",
          "text": [
            "{'name': 'sefin', 'age': 30, 'country': 'India'}\n"
          ]
        }
      ]
    },
    {
      "cell_type": "code",
      "source": [
        "print(my_dictionary['name'])\n",
        "print(my_dictionary['age'])\n",
        "print(my_dictionary['country'])"
      ],
      "metadata": {
        "colab": {
          "base_uri": "https://localhost:8080/"
        },
        "id": "-Qj4FcIaPyz9",
        "outputId": "7e4b4d8d-0701-4383-e207-1ebd225d809b"
      },
      "execution_count": null,
      "outputs": [
        {
          "output_type": "stream",
          "name": "stdout",
          "text": [
            "sefin\n",
            "30\n",
            "India\n"
          ]
        }
      ]
    },
    {
      "cell_type": "markdown",
      "source": [
        "#If else statement"
      ],
      "metadata": {
        "id": "zVEdFGcUQi92"
      }
    },
    {
      "cell_type": "code",
      "source": [
        "#if else\n",
        "a=int(input(\"enter the 1 number\"))\n",
        "b=int(input(\"enter the 2 number\"))\n",
        "if(a>b):\n",
        "  print(\"a is greater than b\")\n",
        "else:\n",
        "  print(\"b is greater than a\")"
      ],
      "metadata": {
        "colab": {
          "base_uri": "https://localhost:8080/"
        },
        "id": "i2PJcM4VQoTF",
        "outputId": "295aec66-c48d-458c-9d31-106e8204b57d"
      },
      "execution_count": null,
      "outputs": [
        {
          "output_type": "stream",
          "name": "stdout",
          "text": [
            "enter the 1 number5\n",
            "enter the 2 number1\n",
            "a is greater than b\n"
          ]
        }
      ]
    },
    {
      "cell_type": "code",
      "source": [
        "\n",
        "#if elif and else\n",
        "a=int(input(\"enter the 1 number\"))\n",
        "b=int(input(\"enter the 2 number\"))\n",
        "c=int(input(\"enter the 3 number\"))\n",
        "if(a>b):\n",
        "  print(\"a is greater than b\")\n",
        "elif(b>c):\n",
        "\n",
        "  print(\"b is greater than c\")\n",
        "else:\n",
        "  print(\"c wasted \")"
      ],
      "metadata": {
        "colab": {
          "base_uri": "https://localhost:8080/"
        },
        "id": "lVDtdHtaRM99",
        "outputId": "4f6bf658-ebd2-4ed3-8336-8a47d7a49f87"
      },
      "execution_count": null,
      "outputs": [
        {
          "output_type": "stream",
          "name": "stdout",
          "text": [
            "enter the 1 number5\n",
            "enter the 2 number3\n",
            "enter the 3 number6\n",
            "a is greater than b\n"
          ]
        }
      ]
    },
    {
      "cell_type": "markdown",
      "source": [
        "#Loops"
      ],
      "metadata": {
        "id": "47ONxedjTjWP"
      }
    },
    {
      "cell_type": "code",
      "source": [
        "for i in range(5):\n",
        "  laptop_price=int(input(\"enter the price of laptop\"))"
      ],
      "metadata": {
        "colab": {
          "base_uri": "https://localhost:8080/"
        },
        "id": "IXJqDfEbTmO2",
        "outputId": "7c535f5d-03fd-45ae-88c8-c879303a517d"
      },
      "execution_count": null,
      "outputs": [
        {
          "name": "stdout",
          "output_type": "stream",
          "text": [
            "enter the price of laptop56\n",
            "enter the price of laptop32\n",
            "enter the price of laptop456\n",
            "enter the price of laptop3256\n",
            "enter the price of laptop451651\n"
          ]
        }
      ]
    },
    {
      "cell_type": "code",
      "source": [
        "numbers=[1,2,3,4,5,6,7,8,9,9]\n",
        "for i in numbers:\n",
        "  print(i)"
      ],
      "metadata": {
        "colab": {
          "base_uri": "https://localhost:8080/"
        },
        "id": "vocYviuuWXIX",
        "outputId": "6530427b-1865-45aa-ec92-80b9b32d9254"
      },
      "execution_count": null,
      "outputs": [
        {
          "output_type": "stream",
          "name": "stdout",
          "text": [
            "1\n",
            "2\n",
            "3\n",
            "4\n",
            "5\n",
            "6\n",
            "7\n",
            "8\n",
            "9\n",
            "9\n"
          ]
        }
      ]
    },
    {
      "cell_type": "code",
      "source": [
        "#while loops\n",
        "#1st condition check then only it will work,its like if else\n",
        "i=0\n",
        "while i<=10:\n",
        "  print (i)\n",
        "  i+=1"
      ],
      "metadata": {
        "colab": {
          "base_uri": "https://localhost:8080/"
        },
        "id": "k6cuAro4XxKe",
        "outputId": "713f72d5-af9c-4584-e9fd-3bad3f92e30e"
      },
      "execution_count": null,
      "outputs": [
        {
          "output_type": "stream",
          "name": "stdout",
          "text": [
            "0\n",
            "1\n",
            "2\n",
            "3\n",
            "4\n",
            "5\n",
            "6\n",
            "7\n",
            "8\n",
            "9\n",
            "10\n"
          ]
        }
      ]
    },
    {
      "cell_type": "markdown",
      "source": [
        "#**Functions&&&&&&&&&&&&&**\n"
      ],
      "metadata": {
        "id": "pC99nRde5RnU"
      }
    },
    {
      "cell_type": "markdown",
      "source": [
        "#Factorial of **number**"
      ],
      "metadata": {
        "id": "nRfpU5ch30TD"
      }
    },
    {
      "cell_type": "code",
      "source": [
        "number=int(input(\"enter your factorial number\"))\n",
        "factorial=1\n",
        "if number==0:\n",
        "  print(\"factorial of 0 is 1\")\n",
        "else:\n",
        "  for i in range(1, number+1):\n",
        "    factorial=factorial*i\n",
        "  print(\"the factorial of a \",number,\"is\",factorial)\n"
      ],
      "metadata": {
        "colab": {
          "base_uri": "https://localhost:8080/"
        },
        "id": "1k8Hb_Kf4BPM",
        "outputId": "2f768df7-03f3-4061-9fca-63532d93da7c"
      },
      "execution_count": null,
      "outputs": [
        {
          "output_type": "stream",
          "name": "stdout",
          "text": [
            "enter your factorial number5\n",
            "the factorial of a  5 is 120\n"
          ]
        }
      ]
    },
    {
      "cell_type": "code",
      "source": [
        "#using function faction\n",
        "def factorial_value(num):\n",
        "  factorial=1\n",
        "  if num==0:\n",
        "    return factorial\n",
        "  else:\n",
        "    for i in range(1, number+1):\n",
        "      factorial=factorial*i\n",
        "    return factorial"
      ],
      "metadata": {
        "id": "ooh9ocgH6NA8"
      },
      "execution_count": null,
      "outputs": []
    },
    {
      "cell_type": "code",
      "source": [
        "print(factorial_value(5))"
      ],
      "metadata": {
        "colab": {
          "base_uri": "https://localhost:8080/"
        },
        "id": "f_eGBt9h7Cx1",
        "outputId": "b050fb3a-3d17-4c66-f32c-ab85582410d9"
      },
      "execution_count": null,
      "outputs": [
        {
          "output_type": "stream",
          "name": "stdout",
          "text": [
            "120\n"
          ]
        }
      ]
    },
    {
      "cell_type": "markdown",
      "source": [
        "# ** Numpy-Numerical python**\n",
        "Advantages of Numpy Arrays:\n",
        "# 1.Allows several mathematical operation\n",
        "# 2.Faster operations"
      ],
      "metadata": {
        "id": "-pVStphM79Qc"
      }
    },
    {
      "cell_type": "code",
      "source": [
        "import numpy as np\n"
      ],
      "metadata": {
        "id": "_1-ZD0NR8ZLr"
      },
      "execution_count": null,
      "outputs": []
    },
    {
      "cell_type": "markdown",
      "source": [
        "List vs Numpy -Time Taken"
      ],
      "metadata": {
        "id": "M0iSWEzp-4hS"
      }
    },
    {
      "cell_type": "code",
      "source": [
        "from time import process_time\n"
      ],
      "metadata": {
        "id": "yNvlT4Jn-_KP"
      },
      "execution_count": null,
      "outputs": []
    },
    {
      "cell_type": "code",
      "source": [
        "python_list=[i for i in range(10000)]\n",
        "start_time=process_time()\n",
        "python_list=[i+5 for i in python_list]\n",
        "end_Time=process_time()\n",
        "print(end_Time - start_time)"
      ],
      "metadata": {
        "colab": {
          "base_uri": "https://localhost:8080/"
        },
        "id": "vu4HTZTP_zEX",
        "outputId": "7845be28-10bb-4519-9f53-2dba4ece87b0"
      },
      "execution_count": null,
      "outputs": [
        {
          "output_type": "stream",
          "name": "stdout",
          "text": [
            "0.0014801089999991746\n"
          ]
        }
      ]
    },
    {
      "cell_type": "code",
      "source": [
        "np_array=np.array([i for i in range(10000)])\n",
        "start_time=process_time()\n",
        "np_array+=5\n",
        "end_Time=process_time()\n",
        "print(end_Time - start_time)"
      ],
      "metadata": {
        "colab": {
          "base_uri": "https://localhost:8080/"
        },
        "id": "5Qah8EshAxUM",
        "outputId": "4f7c0191-b3e1-4f23-c26d-1510782b64f2"
      },
      "execution_count": null,
      "outputs": [
        {
          "output_type": "stream",
          "name": "stdout",
          "text": [
            "0.0016304569999903151\n"
          ]
        }
      ]
    },
    {
      "cell_type": "code",
      "source": [
        "#list\n",
        "list1=[1,2,3,4,5]\n",
        "print(list1)\n",
        "type(list1)"
      ],
      "metadata": {
        "colab": {
          "base_uri": "https://localhost:8080/"
        },
        "id": "5iu0EqTbCRE7",
        "outputId": "505fe09d-e122-4d4e-8c51-043511712d05"
      },
      "execution_count": null,
      "outputs": [
        {
          "output_type": "stream",
          "name": "stdout",
          "text": [
            "[1, 2, 3, 4, 5]\n"
          ]
        },
        {
          "output_type": "execute_result",
          "data": {
            "text/plain": [
              "list"
            ]
          },
          "metadata": {},
          "execution_count": 65
        }
      ]
    },
    {
      "cell_type": "code",
      "source": [
        "np_array=np.array([1,2,3,4,5])\n",
        "print(np_array)\n",
        "type(np_array)"
      ],
      "metadata": {
        "colab": {
          "base_uri": "https://localhost:8080/"
        },
        "id": "pSHe_3f_Cs8V",
        "outputId": "143cdac4-3cde-447e-b90e-b2a76877885d"
      },
      "execution_count": null,
      "outputs": [
        {
          "output_type": "stream",
          "name": "stdout",
          "text": [
            "[1 2 3 4 5]\n"
          ]
        },
        {
          "output_type": "execute_result",
          "data": {
            "text/plain": [
              "numpy.ndarray"
            ]
          },
          "metadata": {},
          "execution_count": 67
        }
      ]
    },
    {
      "cell_type": "code",
      "source": [
        "import numpy as np\n"
      ],
      "metadata": {
        "id": "QXk2z-Da9Bw0"
      },
      "execution_count": null,
      "outputs": []
    },
    {
      "cell_type": "code",
      "source": [
        "#creating 1 dim array\n",
        "a=np.array([1,2,3,4])\n",
        "print(a)"
      ],
      "metadata": {
        "colab": {
          "base_uri": "https://localhost:8080/"
        },
        "id": "yk0_FGfvDbIt",
        "outputId": "a01510e6-d24a-4738-d734-237596747387"
      },
      "execution_count": null,
      "outputs": [
        {
          "output_type": "stream",
          "name": "stdout",
          "text": [
            "[1 2 3 4]\n"
          ]
        }
      ]
    },
    {
      "cell_type": "code",
      "source": [
        "a.shape"
      ],
      "metadata": {
        "colab": {
          "base_uri": "https://localhost:8080/"
        },
        "id": "lD1GVj6pDp_V",
        "outputId": "21ea87d2-1c4a-410c-9a47-8a0c1871870b"
      },
      "execution_count": null,
      "outputs": [
        {
          "output_type": "execute_result",
          "data": {
            "text/plain": [
              "(4,)"
            ]
          },
          "metadata": {},
          "execution_count": 70
        }
      ]
    },
    {
      "cell_type": "code",
      "source": [
        "b=np.array([(1,2,3,4,5),(23,44,33,22,23)])\n",
        "print(b)"
      ],
      "metadata": {
        "colab": {
          "base_uri": "https://localhost:8080/"
        },
        "id": "KENQWLXtDsGo",
        "outputId": "43cd5a06-9716-4bb6-c29b-8e5e3a7785ca"
      },
      "execution_count": null,
      "outputs": [
        {
          "output_type": "stream",
          "name": "stdout",
          "text": [
            "[[ 1  2  3  4  5]\n",
            " [23 44 33 22 23]]\n"
          ]
        }
      ]
    },
    {
      "cell_type": "code",
      "source": [
        "b.shape"
      ],
      "metadata": {
        "colab": {
          "base_uri": "https://localhost:8080/"
        },
        "id": "wHPyK5CmEFuu",
        "outputId": "4dbecba3-52d0-4dc4-8760-406f3370f257"
      },
      "execution_count": null,
      "outputs": [
        {
          "output_type": "execute_result",
          "data": {
            "text/plain": [
              "(2, 5)"
            ]
          },
          "metadata": {},
          "execution_count": 73
        }
      ]
    },
    {
      "cell_type": "code",
      "source": [
        "c=np.array([(1,2,3,4,5),(23,44,33,22,23)],dtype=float)\n",
        "print(c)"
      ],
      "metadata": {
        "colab": {
          "base_uri": "https://localhost:8080/"
        },
        "id": "mrjMH9ykEHz8",
        "outputId": "4bd981b5-28bb-40f5-8abc-910844df83fb"
      },
      "execution_count": null,
      "outputs": [
        {
          "output_type": "stream",
          "name": "stdout",
          "text": [
            "[[ 1.  2.  3.  4.  5.]\n",
            " [23. 44. 33. 22. 23.]]\n"
          ]
        }
      ]
    },
    {
      "cell_type": "code",
      "source": [
        "#initial place holders in zeros in arrays\n",
        "x=np.zeros((4,5))\n",
        "print(x)"
      ],
      "metadata": {
        "colab": {
          "base_uri": "https://localhost:8080/"
        },
        "id": "fzzndooUE4Qh",
        "outputId": "8382c9b0-8399-4c6f-fdfc-02a2b1146886"
      },
      "execution_count": null,
      "outputs": [
        {
          "output_type": "stream",
          "name": "stdout",
          "text": [
            "[[0. 0. 0. 0. 0.]\n",
            " [0. 0. 0. 0. 0.]\n",
            " [0. 0. 0. 0. 0.]\n",
            " [0. 0. 0. 0. 0.]]\n"
          ]
        }
      ]
    },
    {
      "cell_type": "code",
      "source": [
        "y=np.ones((4,5))\n",
        "print(y)"
      ],
      "metadata": {
        "colab": {
          "base_uri": "https://localhost:8080/"
        },
        "id": "UOvCjMijFKNX",
        "outputId": "8af529e9-3899-4054-b723-da3929765c80"
      },
      "execution_count": null,
      "outputs": [
        {
          "output_type": "stream",
          "name": "stdout",
          "text": [
            "[[1. 1. 1. 1. 1.]\n",
            " [1. 1. 1. 1. 1.]\n",
            " [1. 1. 1. 1. 1.]\n",
            " [1. 1. 1. 1. 1.]]\n"
          ]
        }
      ]
    },
    {
      "cell_type": "code",
      "source": [
        "z=np.full((4,5),9)\n",
        "print(z)"
      ],
      "metadata": {
        "colab": {
          "base_uri": "https://localhost:8080/"
        },
        "id": "cfyY3_TTFaNQ",
        "outputId": "ac4ac13a-6c26-4fbf-c986-85b673b099d3"
      },
      "execution_count": null,
      "outputs": [
        {
          "output_type": "stream",
          "name": "stdout",
          "text": [
            "[[9 9 9 9 9]\n",
            " [9 9 9 9 9]\n",
            " [9 9 9 9 9]\n",
            " [9 9 9 9 9]]\n"
          ]
        }
      ]
    },
    {
      "cell_type": "code",
      "source": [
        "#idemtity ,atrices\n",
        "k=np.eye(9)\n",
        "print(k)"
      ],
      "metadata": {
        "colab": {
          "base_uri": "https://localhost:8080/"
        },
        "id": "_MnGG3PxFhsI",
        "outputId": "965aa5b1-ee1d-4b66-ffcb-91724097b39a"
      },
      "execution_count": null,
      "outputs": [
        {
          "output_type": "stream",
          "name": "stdout",
          "text": [
            "[[1. 0. 0. 0. 0. 0. 0. 0. 0.]\n",
            " [0. 1. 0. 0. 0. 0. 0. 0. 0.]\n",
            " [0. 0. 1. 0. 0. 0. 0. 0. 0.]\n",
            " [0. 0. 0. 1. 0. 0. 0. 0. 0.]\n",
            " [0. 0. 0. 0. 1. 0. 0. 0. 0.]\n",
            " [0. 0. 0. 0. 0. 1. 0. 0. 0.]\n",
            " [0. 0. 0. 0. 0. 0. 1. 0. 0.]\n",
            " [0. 0. 0. 0. 0. 0. 0. 1. 0.]\n",
            " [0. 0. 0. 0. 0. 0. 0. 0. 1.]]\n"
          ]
        }
      ]
    },
    {
      "cell_type": "code",
      "source": [
        "#create an numpy array with randm values\n",
        "k=np.random.random((9,8))\n",
        "print(k)"
      ],
      "metadata": {
        "colab": {
          "base_uri": "https://localhost:8080/"
        },
        "id": "8B2fnTgAGWLe",
        "outputId": "73e3b507-419c-4468-a5fc-1765af556bed"
      },
      "execution_count": null,
      "outputs": [
        {
          "output_type": "stream",
          "name": "stdout",
          "text": [
            "[[0.06193529 0.39713544 0.25197459 0.85905246 0.27085892 0.77337009\n",
            "  0.13614615 0.90958462]\n",
            " [0.79023207 0.98454128 0.12928474 0.04625733 0.13417178 0.38988301\n",
            "  0.51029378 0.98748607]\n",
            " [0.73534103 0.4709041  0.54497562 0.42939554 0.44558968 0.65427266\n",
            "  0.73574871 0.65190351]\n",
            " [0.25692678 0.28758323 0.16500386 0.27839318 0.13081497 0.37018683\n",
            "  0.9663183  0.40864963]\n",
            " [0.82801046 0.11134425 0.87544908 0.24322126 0.75042436 0.98432733\n",
            "  0.28969189 0.36811441]\n",
            " [0.52093435 0.70033171 0.62676515 0.38462543 0.30999064 0.68206456\n",
            "  0.61581415 0.99669414]\n",
            " [0.4551308  0.0448027  0.16134057 0.25515839 0.08397476 0.49579606\n",
            "  0.74551808 0.78777571]\n",
            " [0.93591676 0.63059413 0.4595492  0.20355799 0.36252561 0.11985713\n",
            "  0.42053243 0.94560113]\n",
            " [0.54853888 0.29740241 0.94358423 0.43896601 0.60857835 0.75139563\n",
            "  0.26386752 0.65319962]]\n"
          ]
        }
      ]
    },
    {
      "cell_type": "code",
      "source": [
        "#random array with specific range\n",
        "s=np.random.randint(1,99,(3,5))\n",
        "print(s)"
      ],
      "metadata": {
        "colab": {
          "base_uri": "https://localhost:8080/"
        },
        "id": "9Jfrm4ehVXw1",
        "outputId": "4662d6b8-4b4a-458b-bd85-b5bd0b0deb8d"
      },
      "execution_count": null,
      "outputs": [
        {
          "output_type": "stream",
          "name": "stdout",
          "text": [
            "[[75 88 56 46 18]\n",
            " [26 75 92 54 53]\n",
            " [13 78 73 55 63]]\n"
          ]
        }
      ]
    },
    {
      "cell_type": "code",
      "source": [
        "#array of evenly spaced value-->specifying values are required\n",
        "d=np.linspace(10,30,5)\n",
        "print(d)"
      ],
      "metadata": {
        "colab": {
          "base_uri": "https://localhost:8080/"
        },
        "id": "M0QymqslWp5y",
        "outputId": "40e8cdab-a30f-4e4b-8fbd-fec0c1c1cd0f"
      },
      "execution_count": null,
      "outputs": [
        {
          "output_type": "stream",
          "name": "stdout",
          "text": [
            "[10. 15. 20. 25. 30.]\n"
          ]
        }
      ]
    },
    {
      "cell_type": "code",
      "source": [
        "#array of evenly spaced value-->specifying the step\n",
        "d=np.arange(10,30,5)\n",
        "print(d)"
      ],
      "metadata": {
        "colab": {
          "base_uri": "https://localhost:8080/"
        },
        "id": "UuacAaGWW4Ml",
        "outputId": "da5580b8-70b7-4ce2-e558-5c7169172c04"
      },
      "execution_count": null,
      "outputs": [
        {
          "output_type": "stream",
          "name": "stdout",
          "text": [
            "[10 15 20 25]\n"
          ]
        }
      ]
    },
    {
      "cell_type": "code",
      "source": [
        "#converting list to numpy array\n",
        "List2=[1,2,3,4,5]\n",
        "np_array=np.asarray(List2)\n",
        "print(np_array)\n",
        "type(np_array)"
      ],
      "metadata": {
        "colab": {
          "base_uri": "https://localhost:8080/"
        },
        "id": "9_iPb5vMXU9E",
        "outputId": "8104544b-c078-4ea3-cd63-864a031c5f52"
      },
      "execution_count": null,
      "outputs": [
        {
          "output_type": "stream",
          "name": "stdout",
          "text": [
            "[1 2 3 4 5]\n"
          ]
        },
        {
          "output_type": "execute_result",
          "data": {
            "text/plain": [
              "numpy.ndarray"
            ]
          },
          "metadata": {},
          "execution_count": 103
        }
      ]
    },
    {
      "cell_type": "markdown",
      "source": [
        "#Matrics\n"
      ],
      "metadata": {
        "id": "nL0Ca7G17hJv"
      }
    },
    {
      "cell_type": "code",
      "source": [
        "import numpy as np\n"
      ],
      "metadata": {
        "id": "2PmJzw9C9p0k"
      },
      "execution_count": null,
      "outputs": []
    },
    {
      "cell_type": "code",
      "source": [
        "a = np.random.randint(7,10,(3,3))\n",
        "b = np.random.randint(10,20,(3,3))"
      ],
      "metadata": {
        "id": "-4KOyMIo8z4k"
      },
      "execution_count": null,
      "outputs": []
    },
    {
      "cell_type": "code",
      "source": [
        "print(a)\n",
        "print(b)"
      ],
      "metadata": {
        "colab": {
          "base_uri": "https://localhost:8080/"
        },
        "id": "T4gdUJyk-DrK",
        "outputId": "eb46892f-8ac9-4334-db27-6b8da9b6d700"
      },
      "execution_count": null,
      "outputs": [
        {
          "output_type": "stream",
          "name": "stdout",
          "text": [
            "[[9 8 8]\n",
            " [7 8 8]\n",
            " [7 8 9]]\n",
            "[[10 14 18]\n",
            " [17 11 19]\n",
            " [18 13 17]]\n"
          ]
        }
      ]
    },
    {
      "cell_type": "code",
      "source": [
        "print(a+b)\n",
        "print(a-b)\n",
        "print(a*b)\n",
        "print(a/b)"
      ],
      "metadata": {
        "colab": {
          "base_uri": "https://localhost:8080/"
        },
        "id": "YmedTIWP-UMs",
        "outputId": "4a4c0642-77ec-4d55-bd47-0bc447b6ae16"
      },
      "execution_count": null,
      "outputs": [
        {
          "output_type": "stream",
          "name": "stdout",
          "text": [
            "[[19 22 26]\n",
            " [24 19 27]\n",
            " [25 21 26]]\n",
            "[[ -1  -6 -10]\n",
            " [-10  -3 -11]\n",
            " [-11  -5  -8]]\n",
            "[[ 90 112 144]\n",
            " [119  88 152]\n",
            " [126 104 153]]\n",
            "[[0.9        0.57142857 0.44444444]\n",
            " [0.41176471 0.72727273 0.42105263]\n",
            " [0.38888889 0.61538462 0.52941176]]\n"
          ]
        }
      ]
    },
    {
      "cell_type": "code",
      "source": [
        "#this way also add\n",
        "print(np.add(a,b))\n",
        "print(np.subtract(a,b))\n",
        "print(np.multiply(a,b))\n",
        "print(np.divide(a,b))"
      ],
      "metadata": {
        "colab": {
          "base_uri": "https://localhost:8080/"
        },
        "id": "D3d-9r1q-qut",
        "outputId": "e8f10a97-d998-4be0-8089-a3fc8f5edeab"
      },
      "execution_count": null,
      "outputs": [
        {
          "output_type": "stream",
          "name": "stdout",
          "text": [
            "[[19 22 26]\n",
            " [24 19 27]\n",
            " [25 21 26]]\n",
            "[[ -1  -6 -10]\n",
            " [-10  -3 -11]\n",
            " [-11  -5  -8]]\n",
            "[[ 90 112 144]\n",
            " [119  88 152]\n",
            " [126 104 153]]\n",
            "[[0.9        0.57142857 0.44444444]\n",
            " [0.41176471 0.72727273 0.42105263]\n",
            " [0.38888889 0.61538462 0.52941176]]\n"
          ]
        }
      ]
    },
    {
      "cell_type": "markdown",
      "source": [
        "**Array Manipulation**"
      ],
      "metadata": {
        "id": "ChFcVoSy_OS_"
      }
    },
    {
      "cell_type": "code",
      "source": [
        "array=np.random.randint(0,7,(2,3))\n",
        "print(array)\n",
        "print(array.shape)"
      ],
      "metadata": {
        "colab": {
          "base_uri": "https://localhost:8080/"
        },
        "id": "sUrJ1GcJ_TZe",
        "outputId": "3511f0b6-af53-4425-906f-3e5a5d9e3f99"
      },
      "execution_count": null,
      "outputs": [
        {
          "output_type": "stream",
          "name": "stdout",
          "text": [
            "[[3 4 6]\n",
            " [2 5 0]]\n",
            "(2, 3)\n"
          ]
        }
      ]
    },
    {
      "cell_type": "code",
      "source": [
        "trans=np.transpose(array)\n",
        "print(trans)\n",
        "trans=(trans.shape)"
      ],
      "metadata": {
        "colab": {
          "base_uri": "https://localhost:8080/"
        },
        "id": "U6whZYzN_woc",
        "outputId": "11687637-0127-4e31-9096-3f4d66fd4d28"
      },
      "execution_count": null,
      "outputs": [
        {
          "output_type": "stream",
          "name": "stdout",
          "text": [
            "[[3 2]\n",
            " [4 5]\n",
            " [6 0]]\n"
          ]
        }
      ]
    },
    {
      "cell_type": "code",
      "source": [
        "#reshaping an array\n",
        "array=np.random.randint(0,7,(2,3))\n",
        "print(array)\n",
        "print(array.shape)\n"
      ],
      "metadata": {
        "colab": {
          "base_uri": "https://localhost:8080/"
        },
        "id": "WglpsjTGAuyC",
        "outputId": "2f99832e-3bda-455f-d224-c7f254b84d7c"
      },
      "execution_count": null,
      "outputs": [
        {
          "output_type": "stream",
          "name": "stdout",
          "text": [
            "[[1 0 5]\n",
            " [6 5 4]]\n",
            "(2, 3)\n"
          ]
        }
      ]
    },
    {
      "cell_type": "code",
      "source": [
        "b=array.reshape(3,2)\n",
        "print(b)"
      ],
      "metadata": {
        "colab": {
          "base_uri": "https://localhost:8080/"
        },
        "id": "5TYGVVzdBNKE",
        "outputId": "482e5283-b919-48a9-b433-ea2a90a931f4"
      },
      "execution_count": null,
      "outputs": [
        {
          "output_type": "stream",
          "name": "stdout",
          "text": [
            "[[1 0]\n",
            " [5 6]\n",
            " [5 4]]\n"
          ]
        }
      ]
    }
  ]
}